{
 "cells": [
  {
   "cell_type": "markdown",
   "metadata": {},
   "source": [
    "# Processes\n",
    "\n",
    "- Have a look at an example. Very simple with only script. \n",
    "\n",
    "Not the one below but with fastqc\n",
    "```\n",
    "process sayHello {\n",
    "\n",
    "    \"\"\"\n",
    "    echo 'Hello world!' > file\n",
    "    \"\"\"\n",
    "\n",
    "}\n",
    "```\n",
    "\n",
    "- Run that script in terminal with and without params reads changed\n",
    "\n",
    "```\n",
    "nextflow run hello.nf\n",
    "```\n",
    "- Discuss output:\n",
    "```\n",
    "N E X T F L O W  ~  version 20.07.1\n",
    "Launching `hellofrompython.nf` [intergalactic_babbage] - revision: c65862d793\n",
    "executor >  local (1)\n",
    "[a2/362650] process > pythonScript [100%] 1 of 1 ✔\n",
    "```\n",
    "\n",
    "\n",
    "\n",
    "- More complex with params, input, output, comment\n",
    "- Script with python --> incorporate your own python scripts.\n",
    "- Conditionals in script\n",
    "- templates?"
   ]
  },
  {
   "cell_type": "code",
   "execution_count": 1,
   "metadata": {},
   "outputs": [
    {
     "name": "stdout",
     "output_type": "stream",
     "text": [
      "8\n"
     ]
    }
   ],
   "source": [
    "x = 3\n",
    "y = 5\n",
    "print(x + y)"
   ]
  },
  {
   "cell_type": "markdown",
   "metadata": {},
   "source": [
    "Comments\n",
    "Comments use the same syntax as in the C-family programming languages:\n",
    "\n",
    "```\n",
    "// comment a single config file\n",
    "\n",
    "/*\n",
    "   a comment spanning\n",
    "   multiple lines\n",
    " */\n",
    "```"
   ]
  },
  {
   "cell_type": "code",
   "execution_count": null,
   "metadata": {},
   "outputs": [],
   "source": []
  }
 ],
 "metadata": {
  "kernelspec": {
   "display_name": "Python 3",
   "language": "python",
   "name": "python3"
  },
  "language_info": {
   "codemirror_mode": {
    "name": "ipython",
    "version": 3
   },
   "file_extension": ".py",
   "mimetype": "text/x-python",
   "name": "python",
   "nbconvert_exporter": "python",
   "pygments_lexer": "ipython3",
   "version": "3.8.5"
  }
 },
 "nbformat": 4,
 "nbformat_minor": 4
}
