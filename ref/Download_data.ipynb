{
 "cells": [
  {
   "cell_type": "markdown",
   "metadata": {},
   "source": [
    "# The data (reference data)\n",
    "Use the following commands to download the data. \n",
    "\n",
    "Get the reference data with the helpful script [get_bundle.sh] link to this file in github repo. "
   ]
  },
  {
   "cell_type": "code",
   "execution_count": null,
   "metadata": {},
   "outputs": [],
   "source": [
    "!wget https://raw.githubusercontent.com/BITS-VIB/NGS-Variant-Analysis-training-2020/master/scripts/get_bundle.sh\n",
    "!chmod +x get_bundle.sh\n",
    "!sh get_bundle.sh"
   ]
  },
  {
   "cell_type": "markdown",
   "metadata": {},
   "source": [
    "A list of the  some (or all) of the reference files you might need at some point during this tutorial and which are automatically downloaded with the script defined above. If you have skipped that file, you can download them using the following command:\n",
    "\n",
    "```\n",
    "wget -np --ftp-user=gsapubftp-anonymous ftp://gsapubftp-anonymous@ftp.broadinstitute.org/bundle/hg38/${name-of-file}\n",
    "```\n",
    "\n",
    "in which: ${name-of-file} has to be replaced by one of the following files:\n",
    "- 1000G_omni2.5.hg38.vcf.gz\n",
    "- 1000G_omni2.5.hg38.vcf.gz.tbi\n",
    "- 1000G_phase1.snps.high_confidence.hg38.vcf.gz\n",
    "- 1000G_phase1.snps.high_confidence.hg38.vcf.gz.tbi\n",
    "- Axiom_Exome_Plus.genotypes.all_populations.poly.hg38.vcf.gz\n",
    "- Axiom_Exome_Plus.genotypes.all_populations.poly.hg38.vcf.gz.tbi\n",
    "- Homo_sapiens_assembly38.dict\n",
    "- Homo_sapiens_assembly38.fasta.64.alt\n",
    "- Homo_sapiens_assembly38.fasta.fai\n",
    "- Homo_sapiens_assembly38.fasta.gz\n",
    "- Mills_and_1000G_gold_standard.indels.hg38.vcf.gz\n",
    "- Mills_and_1000G_gold_standard.indels.hg38.vcf.gz.tbi\n",
    "- dbsnp_138.hg38.vcf.gz\n",
    "- dbsnp_144.hg38.vcf.gz\n",
    "- dbsnp_138.hg38.vcf.gz.tbi\n",
    "- dbsnp_144.hg38.vcf.gz.tbi\n",
    "- dbsnp_146.hg38.vcf.gz\n",
    "- dbsnp_146.hg38.vcf.gz.tbi\n",
    "- hapmap_3.3.hg38.vcf.gz\n",
    "- hapmap_3.3.hg38.vcf.gz.tbi\n",
    "- hapmap_3.3_grch38_pop_stratified_af.vcf.gz\n",
    "- hapmap_3.3_grch38_pop_stratified_af.vcf.gz.tbi\n",
    "- beta/Homo_sapiens_assembly38.dbsnp138.vcf.gz\n",
    "- wgs_calling_regions.hg38.interval_list\n",
    "- beta/Homo_sapiens_assembly38.known_indels.vcf.gz\n",
    "- beta/Homo_sapiens_assembly38.known_indels.vcf.gz.tbi\n",
    "\n",
    "We're using only chromosome 22 as the full genome would take up so much space and slow down the calculations (this should have been Homo_sapiens_assembly38.fa), make sure to make the indexed reference. By running the script in this repository the reference files will be downloaded here. "
   ]
  },
  {
   "cell_type": "code",
   "execution_count": 1,
   "metadata": {},
   "outputs": [
    {
     "name": "stdout",
     "output_type": "stream",
     "text": [
      "total 16\n",
      "-rw-r--r-- 1 tuur tuur 5360 Oct  1 13:34 Download_data.ipynb\n",
      "-rwxr-xr-x 1 tuur tuur 2470 Oct  1 13:28 get_bundle.sh\n",
      "drwxr-xr-x 2 tuur tuur 4096 Oct  1 13:34 reference\n"
     ]
    }
   ],
   "source": [
    "!ls -l"
   ]
  },
  {
   "cell_type": "code",
   "execution_count": null,
   "metadata": {},
   "outputs": [],
   "source": []
  }
 ],
 "metadata": {
  "kernelspec": {
   "display_name": "Python 3",
   "language": "python",
   "name": "python3"
  },
  "language_info": {
   "codemirror_mode": {
    "name": "ipython",
    "version": 3
   },
   "file_extension": ".py",
   "mimetype": "text/x-python",
   "name": "python",
   "nbconvert_exporter": "python",
   "pygments_lexer": "ipython3",
   "version": "3.8.5"
  }
 },
 "nbformat": 4,
 "nbformat_minor": 4
}
