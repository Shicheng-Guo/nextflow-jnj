{
 "cells": [
  {
   "cell_type": "markdown",
   "metadata": {},
   "source": [
    "# Introduction\n",
    "Test"
   ]
  },
  {
   "cell_type": "code",
   "execution_count": 4,
   "metadata": {},
   "outputs": [
    {
     "name": "stdout",
     "output_type": "stream",
     "text": [
      "total 90884\n",
      "-rw-r--r--  1 tuur tuur 93052469 Jul 28 16:13 Miniconda3-latest-Linux-x86_64.sh\n",
      "-rw-r--r--  1 tuur tuur       72 Oct  1 12:31 Untitled.ipynb\n",
      "drwxr-xr-x 15 tuur tuur     4096 Oct  1 10:18 jupyter\n",
      "drwxr-xr-x  2 tuur tuur     4096 Oct  1 12:30 test\n",
      "-rw-r--r--  1 tuur tuur        0 Oct  1 12:31 untitled.md\n"
     ]
    }
   ],
   "source": [
    "!ls -l"
   ]
  },
  {
   "cell_type": "code",
   "execution_count": 5,
   "metadata": {},
   "outputs": [],
   "source": [
    "!mv Untitled.ipynb test/\n",
    "cd test/"
   ]
  },
  {
   "cell_type": "markdown",
   "metadata": {},
   "source": [
    "## Git integration\n",
    "To integrate git in Jupyter Notebooks, we'll first add the package `jupyterlab-git` to our conda environment after which we have to rebuild jupyterlab. "
   ]
  },
  {
   "cell_type": "code",
   "execution_count": 8,
   "metadata": {},
   "outputs": [
    {
     "name": "stdout",
     "output_type": "stream",
     "text": [
      "Collecting package metadata (current_repodata.json): done\n",
      "Solving environment: done\n",
      "\n",
      "\n",
      "==> WARNING: A newer version of conda exists. <==\n",
      "  current version: 4.8.3\n",
      "  latest version: 4.8.5\n",
      "\n",
      "Please update conda by running\n",
      "\n",
      "    $ conda update -n base -c defaults conda\n",
      "\n",
      "\n",
      "\n",
      "## Package Plan ##\n",
      "\n",
      "  environment location: /home/tuur/jupyter/envs/workflows\n",
      "\n",
      "  added / updated specs:\n",
      "    - jupyterlab-git\n",
      "\n",
      "\n",
      "The following packages will be downloaded:\n",
      "\n",
      "    package                    |            build\n",
      "    ---------------------------|-----------------\n",
      "    ca-certificates-2020.6.20  |       hecda079_0         145 KB  conda-forge\n",
      "    certifi-2020.6.20          |   py38h32f6830_0         151 KB  conda-forge\n",
      "    colorama-0.4.3             |             py_0          17 KB  conda-forge\n",
      "    gitdb-4.0.5                |             py_0          46 KB  conda-forge\n",
      "    gitpython-3.1.9            |             py_0         110 KB  conda-forge\n",
      "    jupyterlab-git-0.21.1      |             py_0         247 KB  conda-forge\n",
      "    nbdime-2.0.0               |             py_1         4.5 MB  conda-forge\n",
      "    openssl-1.1.1h             |       h516909a_0         2.1 MB  conda-forge\n",
      "    python_abi-3.8             |           1_cp38           4 KB  conda-forge\n",
      "    smmap-3.0.4                |     pyh9f0ad1d_0          22 KB  conda-forge\n",
      "    ------------------------------------------------------------\n",
      "                                           Total:         7.3 MB\n",
      "\n",
      "The following NEW packages will be INSTALLED:\n",
      "\n",
      "  colorama           conda-forge/noarch::colorama-0.4.3-py_0\n",
      "  gitdb              conda-forge/noarch::gitdb-4.0.5-py_0\n",
      "  gitpython          conda-forge/noarch::gitpython-3.1.9-py_0\n",
      "  jupyterlab-git     conda-forge/noarch::jupyterlab-git-0.21.1-py_0\n",
      "  nbdime             conda-forge/noarch::nbdime-2.0.0-py_1\n",
      "  python_abi         conda-forge/linux-64::python_abi-3.8-1_cp38\n",
      "  smmap              conda-forge/noarch::smmap-3.0.4-pyh9f0ad1d_0\n",
      "\n",
      "The following packages will be SUPERSEDED by a higher-priority channel:\n",
      "\n",
      "  ca-certificates    pkgs/main::ca-certificates-2020.7.22-0 --> conda-forge::ca-certificates-2020.6.20-hecda079_0\n",
      "  certifi               pkgs/main::certifi-2020.6.20-py38_0 --> conda-forge::certifi-2020.6.20-py38h32f6830_0\n",
      "  openssl              pkgs/main::openssl-1.1.1h-h7b6447c_0 --> conda-forge::openssl-1.1.1h-h516909a_0\n",
      "\n",
      "\n",
      "\n",
      "Downloading and Extracting Packages\n",
      "colorama-0.4.3       | 17 KB     | ##################################### | 100% \n",
      "gitdb-4.0.5          | 46 KB     | ##################################### | 100% \n",
      "nbdime-2.0.0         | 4.5 MB    | ##################################### | 100% \n",
      "ca-certificates-2020 | 145 KB    | ##################################### | 100% \n",
      "openssl-1.1.1h       | 2.1 MB    | ##################################### | 100% \n",
      "jupyterlab-git-0.21. | 247 KB    | ##################################### | 100% \n",
      "smmap-3.0.4          | 22 KB     | ##################################### | 100% \n",
      "python_abi-3.8       | 4 KB      | ##################################### | 100% \n",
      "certifi-2020.6.20    | 151 KB    | ##################################### | 100% \n",
      "gitpython-3.1.9      | 110 KB    | ##################################### | 100% \n",
      "Preparing transaction: done\n",
      "Verifying transaction: done\n",
      "Executing transaction: done\n",
      "\n",
      "Note: you may need to restart the kernel to use updated packages.\n"
     ]
    }
   ],
   "source": [
    "conda install -c conda-forge jupyterlab-git"
   ]
  },
  {
   "cell_type": "code",
   "execution_count": 10,
   "metadata": {},
   "outputs": [
    {
     "name": "stdout",
     "output_type": "stream",
     "text": [
      "[LabBuildApp] WARNING | Config option `kernel_spec_manager_class` not recognized by `LabBuildApp`.\n",
      "[LabBuildApp] JupyterLab 2.2.6\n",
      "[LabBuildApp] Building in /home/tuur/jupyter/envs/workflows/share/jupyter/lab\n",
      "[LabBuildApp] Building jupyterlab assets (build:prod:minimize)\n"
     ]
    }
   ],
   "source": [
    "!jupyter lab build"
   ]
  },
  {
   "cell_type": "code",
   "execution_count": null,
   "metadata": {},
   "outputs": [],
   "source": []
  }
 ],
 "metadata": {
  "kernelspec": {
   "display_name": "Python 3",
   "language": "python",
   "name": "python3"
  },
  "language_info": {
   "codemirror_mode": {
    "name": "ipython",
    "version": 3
   },
   "file_extension": ".py",
   "mimetype": "text/x-python",
   "name": "python",
   "nbconvert_exporter": "python",
   "pygments_lexer": "ipython3",
   "version": "3.8.5"
  }
 },
 "nbformat": 4,
 "nbformat_minor": 4
}
