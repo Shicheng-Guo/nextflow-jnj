{
 "cells": [
  {
   "cell_type": "markdown",
   "metadata": {},
   "source": [
    "# Download reference data\n",
    "Use the following commands to download the data. \n",
    "\n",
    "Get the reference data with the helpful script [get_bundle.sh] link to this file in github repo. "
   ]
  },
  {
   "cell_type": "code",
   "execution_count": null,
   "metadata": {},
   "outputs": [],
   "source": [
    "!wget https://raw.githubusercontent.com/BITS-VIB/NGS-Variant-Analysis-training-2020/master/scripts/get_bundle.sh\n",
    "!chmod +x get_bundle.sh\n",
    "!sh get_bundle.sh"
   ]
  },
  {
   "cell_type": "markdown",
   "metadata": {},
   "source": [
    "A list of the  some (or all) of the reference files you might need at some point during this tutorial and which are automatically downloaded with the script defined above. If you have skipped that file, you can download them using the following command:\n",
    "\n",
    "```\n",
    "wget -np --ftp-user=gsapubftp-anonymous ftp://gsapubftp-anonymous@ftp.broadinstitute.org/bundle/hg38/${name-of-file}\n",
    "```\n",
    "\n",
    "in which: ${name-of-file} has to be replaced by one of the following files:\n",
    "- 1000G_omni2.5.hg38.vcf.gz\n",
    "- 1000G_omni2.5.hg38.vcf.gz.tbi\n",
    "- 1000G_phase1.snps.high_confidence.hg38.vcf.gz\n",
    "- 1000G_phase1.snps.high_confidence.hg38.vcf.gz.tbi\n",
    "- Axiom_Exome_Plus.genotypes.all_populations.poly.hg38.vcf.gz\n",
    "- Axiom_Exome_Plus.genotypes.all_populations.poly.hg38.vcf.gz.tbi\n",
    "- Homo_sapiens_assembly38.dict\n",
    "- Homo_sapiens_assembly38.fasta.64.alt\n",
    "- Homo_sapiens_assembly38.fasta.fai\n",
    "- Homo_sapiens_assembly38.fasta.gz\n",
    "- Mills_and_1000G_gold_standard.indels.hg38.vcf.gz\n",
    "- Mills_and_1000G_gold_standard.indels.hg38.vcf.gz.tbi\n",
    "- dbsnp_138.hg38.vcf.gz\n",
    "- dbsnp_144.hg38.vcf.gz\n",
    "- dbsnp_138.hg38.vcf.gz.tbi\n",
    "- dbsnp_144.hg38.vcf.gz.tbi\n",
    "- dbsnp_146.hg38.vcf.gz\n",
    "- dbsnp_146.hg38.vcf.gz.tbi\n",
    "- hapmap_3.3.hg38.vcf.gz\n",
    "- hapmap_3.3.hg38.vcf.gz.tbi\n",
    "- hapmap_3.3_grch38_pop_stratified_af.vcf.gz\n",
    "- hapmap_3.3_grch38_pop_stratified_af.vcf.gz.tbi\n",
    "- beta/Homo_sapiens_assembly38.dbsnp138.vcf.gz\n",
    "- wgs_calling_regions.hg38.interval_list\n",
    "- beta/Homo_sapiens_assembly38.known_indels.vcf.gz\n",
    "- beta/Homo_sapiens_assembly38.known_indels.vcf.gz.tbi\n",
    "\n",
    "We're using only chromosome 22 as the full genome would take up so much space and slow down the calculations (this should have been Homo_sapiens_assembly38.fa), make sure to make the indexed reference. By running the script in this repository the reference files will be downloaded here. "
   ]
  },
  {
   "cell_type": "code",
   "execution_count": 1,
   "metadata": {},
   "outputs": [
    {
     "name": "stdout",
     "output_type": "stream",
     "text": [
      "total 15783428\n",
      "-rw-r--r-- 1 tuur tuur   53238342 Oct  1 13:30 1000G_omni2.5.hg38.vcf.gz\n",
      "-rw-r--r-- 1 tuur tuur    1544108 Oct  1 13:38 1000G_omni2.5.hg38.vcf.gz.tbi\n",
      "-rw-r--r-- 1 tuur tuur 1888262073 Oct  1 13:31 1000G_phase1.snps.high_confidence.hg38.vcf.gz\n",
      "-rw-r--r-- 1 tuur tuur    2128536 Oct  1 13:38 1000G_phase1.snps.high_confidence.hg38.vcf.gz.tbi\n",
      "-rw-r--r-- 1 tuur tuur    3053999 Oct  1 13:31 Axiom_Exome_Plus.genotypes.all_populations.poly.hg38.vcf.gz\n",
      "-rw-r--r-- 1 tuur tuur     421689 Oct  1 13:38 Axiom_Exome_Plus.genotypes.all_populations.poly.hg38.vcf.gz.tbi\n",
      "-rw-r--r-- 1 tuur tuur       3744 Oct  1 13:38 Download_data.ipynb\n",
      "-rw-r--r-- 1 tuur tuur 1475469243 Oct  1 13:37 Homo_sapiens_assembly38.dbsnp138.vcf.gz\n",
      "-rw-r--r-- 1 tuur tuur     581712 Oct  1 13:31 Homo_sapiens_assembly38.dict\n",
      "-rw-r--r-- 1 tuur tuur 3249912778 Oct  1 13:32 Homo_sapiens_assembly38.fasta\n",
      "-rw-r--r-- 1 tuur tuur     487553 Oct  1 13:31 Homo_sapiens_assembly38.fasta.64.alt\n",
      "-rw-r--r-- 1 tuur tuur     160928 Oct  1 13:31 Homo_sapiens_assembly38.fasta.fai\n",
      "-rw-r--r-- 1 tuur tuur  890202736 Oct  1 13:32 Homo_sapiens_assembly38.fasta.gz\n",
      "-rw-r--r-- 1 tuur tuur    5335526 May 25  2018 Homo_sapiens_assembly38.genes_chr22.gff\n",
      "-rw-r--r-- 1 tuur tuur   61692306 Oct  1 13:37 Homo_sapiens_assembly38.known_indels.vcf.gz\n",
      "-rw-r--r-- 1 tuur tuur    1567886 Oct  1 13:38 Homo_sapiens_assembly38.known_indels.vcf.gz.tbi\n",
      "-rw-r--r-- 1 tuur tuur   51665450 Dec 11  2019 Homo_sapiens_assembly38_chr22.fa\n",
      "-rw-r--r-- 1 tuur tuur         23 Dec 11  2019 Homo_sapiens_assembly38_chr22.fa.fai\n",
      "-rw-r--r-- 1 tuur tuur   20685880 Oct  1 13:32 Mills_and_1000G_gold_standard.indels.hg38.vcf.gz\n",
      "-rw-r--r-- 1 tuur tuur    1500013 Oct  1 13:38 Mills_and_1000G_gold_standard.indels.hg38.vcf.gz.tbi\n",
      "-rw-r--r-- 1 tuur tuur    1251147 Dec  6  2019 NA12878_HG001-chr22_gold.vcf.gz\n",
      "-rw-r--r-- 1 tuur tuur      17216 Dec  6  2019 NA12878_HG001-chr22_gold.vcf.gz.tbi\n",
      "-rw-r--r-- 1 tuur tuur   12660543 Oct  1 13:38 addedrefs.tgz\n",
      "-rw-r--r-- 1 tuur tuur        578 Oct  1 13:38 chr22.bed\n",
      "-rw-r--r-- 1 tuur tuur 1560889937 Oct  1 13:33 dbsnp_138.hg38.vcf.gz\n",
      "-rw-r--r-- 1 tuur tuur    2321422 Oct  1 13:38 dbsnp_138.hg38.vcf.gz.tbi\n",
      "-rw-r--r-- 1 tuur tuur 3215686850 Oct  1 13:34 dbsnp_144.hg38.vcf.gz\n",
      "-rw-r--r-- 1 tuur tuur    2434204 Oct  1 13:38 dbsnp_144.hg38.vcf.gz.tbi\n",
      "-rw-r--r-- 1 tuur tuur 3411143311 Oct  1 13:36 dbsnp_146.hg38.vcf.gz\n",
      "-rw-r--r-- 1 tuur tuur    2466606 Oct  1 13:38 dbsnp_146.hg38.vcf.gz.tbi\n",
      "-rwxr-xr-x 1 tuur tuur       2531 Oct  1 13:37 get_bundle.sh\n",
      "-rw-r--r-- 1 tuur tuur   62043448 Oct  1 13:36 hapmap_3.3.hg38.vcf.gz\n",
      "-rw-r--r-- 1 tuur tuur    1552123 Oct  1 13:38 hapmap_3.3.hg38.vcf.gz.tbi\n",
      "-rw-r--r-- 1 tuur tuur  179601790 Oct  1 13:36 hapmap_3.3_grch38_pop_stratified_af.vcf.gz\n",
      "-rw-r--r-- 1 tuur tuur    1547721 Oct  1 13:38 hapmap_3.3_grch38_pop_stratified_af.vcf.gz.tbi\n",
      "-rw-r--r-- 1 tuur tuur     599399 Oct  1 13:37 wgs_calling_regions.hg38.interval_list\n"
     ]
    }
   ],
   "source": [
    "!ls -l"
   ]
  }
 ],
 "metadata": {
  "kernelspec": {
   "display_name": "Python 3",
   "language": "python",
   "name": "python3"
  },
  "language_info": {
   "codemirror_mode": {
    "name": "ipython",
    "version": 3
   },
   "file_extension": ".py",
   "mimetype": "text/x-python",
   "name": "python",
   "nbconvert_exporter": "python",
   "pygments_lexer": "ipython3",
   "version": "3.8.5"
  }
 },
 "nbformat": 4,
 "nbformat_minor": 4
}
