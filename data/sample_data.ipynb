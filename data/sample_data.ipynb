{
 "cells": [
  {
   "cell_type": "markdown",
   "metadata": {},
   "source": [
    "# Download sample data\n",
    "\n",
    "We'll be working with reads mapping on a human Chr22. There are three options to download the data:\n",
    "- A full data download (100%)\n",
    "- A light download (10%)\n",
    "- A very light download (1%)\n",
    "\n",
    "The 1% data is ideal for testing purposes. Later we can change this to 10% data or 100% data so it makes more sense biologically. \n",
    "\n",
    "Use one of the following to download reads (full chr22 mapped reads - 1 for forward and 2 for reversed)\n",
    "\n",
    "```\n",
    "# 100% \n",
    "wget https://data.bits.vib.be/pub/trainingen/NGSVAR2018/1_reads/HG001.GRCh38_chr22_2.fq.gz\n",
    "wget https://data.bits.vib.be/pub/trainingen/NGSVAR2018/1_reads/HG001.GRCh38_chr22_1.fq.gz\n",
    "\n",
    "# 10%\n",
    "wget https://data.bits.vib.be/pub/trainingen/NGSVAR2018/1_reads/HG001.GRCh38_chr22_0.1_1.fq.gz\n",
    "wget https://data.bits.vib.be/pub/trainingen/NGSVAR2018/1_reads/HG001.GRCh38_chr22_0.1_2.fq.gz\n",
    "\n",
    "# 1%\n",
    "wget https://data.bits.vib.be/pub/trainingen/NGSVAR2018/1_reads/HG001.GRCh38_chr22_0.01_1.fq.gz\n",
    "wget https://data.bits.vib.be/pub/trainingen/NGSVAR2018/1_reads/HG001.GRCh38_chr22_0.01_2.fq.gz\n",
    "```"
   ]
  },
  {
   "cell_type": "code",
   "execution_count": 1,
   "metadata": {},
   "outputs": [
    {
     "name": "stdout",
     "output_type": "stream",
     "text": [
      "--2020-10-01 13:57:04--  https://data.bits.vib.be/pub/trainingen/NGSVAR2018/1_reads/HG001.GRCh38_chr22_0.01_1.fq.gz\n",
      "Resolving data.bits.vib.be (data.bits.vib.be)... 157.193.230.90\n",
      "Connecting to data.bits.vib.be (data.bits.vib.be)|157.193.230.90|:443... connected.\n",
      "HTTP request sent, awaiting response... 200 OK\n",
      "Length: 39213159 (37M) [application/x-gzip]\n",
      "Saving to: ‘HG001.GRCh38_chr22_0.01_1.fq.gz’\n",
      "\n",
      "HG001.GRCh38_chr22_ 100%[===================>]  37.40M  78.9MB/s    in 0.5s    \n",
      "\n",
      "2020-10-01 13:57:04 (78.9 MB/s) - ‘HG001.GRCh38_chr22_0.01_1.fq.gz’ saved [39213159/39213159]\n",
      "\n",
      "--2020-10-01 13:57:04--  https://data.bits.vib.be/pub/trainingen/NGSVAR2018/1_reads/HG001.GRCh38_chr22_0.01_2.fq.gz\n",
      "Resolving data.bits.vib.be (data.bits.vib.be)... 157.193.230.90\n",
      "Connecting to data.bits.vib.be (data.bits.vib.be)|157.193.230.90|:443... connected.\n",
      "HTTP request sent, awaiting response... 200 OK\n",
      "Length: 42809016 (41M) [application/x-gzip]\n",
      "Saving to: ‘HG001.GRCh38_chr22_0.01_2.fq.gz’\n",
      "\n",
      "HG001.GRCh38_chr22_ 100%[===================>]  40.83M  83.6MB/s    in 0.5s    \n",
      "\n",
      "2020-10-01 13:57:05 (83.6 MB/s) - ‘HG001.GRCh38_chr22_0.01_2.fq.gz’ saved [42809016/42809016]\n",
      "\n"
     ]
    }
   ],
   "source": [
    "# 1% \n",
    "!wget https://data.bits.vib.be/pub/trainingen/NGSVAR2018/1_reads/HG001.GRCh38_chr22_0.01_1.fq.gz\n",
    "!wget https://data.bits.vib.be/pub/trainingen/NGSVAR2018/1_reads/HG001.GRCh38_chr22_0.01_2.fq.gz"
   ]
  }
 ],
 "metadata": {
  "kernelspec": {
   "display_name": "Python 3",
   "language": "python",
   "name": "python3"
  },
  "language_info": {
   "codemirror_mode": {
    "name": "ipython",
    "version": 3
   },
   "file_extension": ".py",
   "mimetype": "text/x-python",
   "name": "python",
   "nbconvert_exporter": "python",
   "pygments_lexer": "ipython3",
   "version": "3.8.5"
  }
 },
 "nbformat": 4,
 "nbformat_minor": 4
}
